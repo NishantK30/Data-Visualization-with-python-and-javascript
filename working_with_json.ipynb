{
 "cells": [
  {
   "cell_type": "markdown",
   "metadata": {},
   "source": [
    "#### Creating json from python dict and loading the json in python dict "
   ]
  },
  {
   "cell_type": "code",
   "execution_count": null,
   "metadata": {},
   "outputs": [],
   "source": [
    "import json\n",
    "\n",
    "nobel_winners ={}\n",
    "with open('nobel_winners.json','w') as f:\n",
    "   json.dump(nobel_winners,f) \n",
    "   \n",
    "with open('nobel_winners_cleaned.json') as f:\n",
    "    nobel_winners = json.load(f)\n"
   ]
  },
  {
   "cell_type": "markdown",
   "metadata": {},
   "source": [
    "#### encoding datetime into json"
   ]
  },
  {
   "cell_type": "code",
   "execution_count": 1,
   "metadata": {},
   "outputs": [
    {
     "data": {
      "text/plain": [
       "'{\"time\": \"2024-12-31T11:56:14.554389\"}'"
      ]
     },
     "execution_count": 1,
     "metadata": {},
     "output_type": "execute_result"
    }
   ],
   "source": [
    "import datetime\n",
    "from dateutil import parser\n",
    "import json\n",
    "\n",
    "\n",
    "class JsonDateTimeEncoder(json.JSONEncoder):\n",
    "    def default(self, obj):\n",
    "        if isinstance(obj,(datetime.date,datetime.datetime)):\n",
    "            return obj.isoformat()\n",
    "        else:\n",
    "            return json.JSONEncoder.default(self,obj)\n",
    "        \n",
    "def dumps(obj):\n",
    "    return json.dumps(obj,cls=JsonDateTimeEncoder)\n",
    "\n",
    "now_str = dumps({'time': datetime.datetime.now()})\n",
    "now_str"
   ]
  },
  {
   "cell_type": "markdown",
   "metadata": {},
   "source": [
    "#### using strptime method to turn time string into python datetime format"
   ]
  },
  {
   "cell_type": "code",
   "execution_count": 7,
   "metadata": {},
   "outputs": [
    {
     "data": {
      "text/plain": [
       "datetime.datetime(2012, 1, 1, 12, 32, 11)"
      ]
     },
     "execution_count": 7,
     "metadata": {},
     "output_type": "execute_result"
    }
   ],
   "source": [
    "from datetime import datetime\n",
    "\n",
    "time_str = '2012/01/01 12:32:11' \n",
    "dt = datetime.strptime(time_str,'%Y/%m/%d %H:%M:%S')\n",
    "dt"
   ]
  },
  {
   "cell_type": "markdown",
   "metadata": {},
   "source": [
    "#### Problem with strptime method\n",
    "strptime tries to match the time string to a format string using\n",
    "various directives such as %Y (year with century) and %H (hour as\n",
    "a zero-padded decimal number). If successful, it creates a\n",
    "Python datetime instance. See the Python docs for a full list of\n",
    "the directives available.\n",
    "\n",
    "If strptime is fed a time string that does not match its format, it\n",
    "throws a handy ValueError:\n",
    "\n",
    "So to deal with it we do the following"
   ]
  },
  {
   "cell_type": "code",
   "execution_count": null,
   "metadata": {},
   "outputs": [],
   "source": [
    "data = {}\n",
    "for d in data:\n",
    "    try:\n",
    "        d['date'] = datetime.strptime(d['date'],'%Y/%m/%d %H:%M:%S')\n",
    "    except ValueError:\n",
    "        print(\"Oops!! - invalid date for\"+ repr(d))\n",
    "        "
   ]
  }
 ],
 "metadata": {
  "kernelspec": {
   "display_name": "dataviz",
   "language": "python",
   "name": "python3"
  },
  "language_info": {
   "codemirror_mode": {
    "name": "ipython",
    "version": 3
   },
   "file_extension": ".py",
   "mimetype": "text/x-python",
   "name": "python",
   "nbconvert_exporter": "python",
   "pygments_lexer": "ipython3",
   "version": "3.12.8"
  }
 },
 "nbformat": 4,
 "nbformat_minor": 2
}
